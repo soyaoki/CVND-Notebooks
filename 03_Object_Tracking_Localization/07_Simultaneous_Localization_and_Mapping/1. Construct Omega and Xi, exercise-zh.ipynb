{
 "cells": [
  {
   "cell_type": "markdown",
   "metadata": {},
   "source": [
    "## Omega 与 Xi\n",
    "\n",
    "为了实现Graph SLAM，我们引入了一个矩阵与一个向量，分别为omega和xi。该矩阵是方形的，并标有所有机器人姿势（xi）和所有地标（Li）。例如，在每次进行观察中，当你在两个姿势之间移动某个距离`dx`并且可以将这两个位置关联起来时，可以将其表示为这些矩阵中的数值关系。\n",
    "\n",
    "下面你可以看到omega的一个矩阵表示和xi的一个向量表示。\n",
    "\n",
    "<img src='images/omega_xi.png' width=20% height=20% />\n",
    "\n",
    "\n",
    "### 求解 x, L\n",
    "\n",
    "为了“确定”所有这些姿势和地标位置，我们可以使用线性代数。所有位置值都在向量`mu`中，该向量可以计算为omega乘以xi的倒数的乘积。\n",
    "\n",
    "---\n",
    "\n",
    "\n",
    "### 练习：为机器人的3次移动构建约束矩阵constraints，并返回`mu`\n",
    "\n",
    "在下面的示例中，你需要完成一个函数调用`mu_from_positions(-3, 5, 3)`，其中包含3个机器人姿势/移动：\n",
    "* 初始姿势：-3\n",
    "* 移动5\n",
    "* 移动3\n",
    "\n",
    "在这个函数中，你需要构建约束矩阵`omega`和`xi`，并计算 `mu`。最后的调用结果应该是一个包含下列值的 `mu`："
   ]
  },
  {
   "cell_type": "code",
   "execution_count": null,
   "metadata": {},
   "outputs": [],
   "source": [
    "[[-3.0],\n",
    " [2.0],\n",
    " [5.0]]"
   ]
  },
  {
   "cell_type": "markdown",
   "metadata": {},
   "source": [
    "## 约束更新\n",
    "\n",
    "在这个例子中，我们不会考虑地标传感器测量，只考虑机器人姿势。\n",
    "\n",
    "#### 移动\n",
    "当机器人移动一定量`dx`时，你需要更新约束矩阵，如下所示：\n",
    "* 在 `xt`和`xt+1`交叉点的索引处将 `[[1, -1], [-1, 1]]`添加到omega中\n",
    "* 在`xt`和`xt+1`行中将 `-dx` 和`dx`添加到xi中"
   ]
  },
  {
   "cell_type": "code",
   "execution_count": null,
   "metadata": {},
   "outputs": [],
   "source": [
    "import numpy as np\n",
    "\n",
    "\n",
    "def mu_from_positions(initial_pos, move1, move2):\n",
    "    \n",
    "    ## TODO: construct constraint matrices\n",
    "    ## and add each position/motion constraint to them\n",
    "    \n",
    "    # Your code here\n",
    "    \n",
    "    # display final omega and xi\n",
    "    print('Omega: \\n', omega)\n",
    "    print('\\n')\n",
    "    print('Xi: \\n', xi)\n",
    "    print('\\n')\n",
    "    \n",
    "    ## TODO: calculate mu as the inverse of omega * xi\n",
    "    ## recommended that you use: np.linalg.inv(np.matrix(omega)) to calculate the inverse\n",
    "    mu = 0\n",
    "    return mu\n"
   ]
  },
  {
   "cell_type": "code",
   "execution_count": null,
   "metadata": {},
   "outputs": [],
   "source": [
    "# call function and print out `mu`\n",
    "mu = mu_from_positions(-3, 5, 3)\n",
    "print('Mu: \\n', mu)"
   ]
  }
 ],
 "metadata": {},
 "nbformat": 4,
 "nbformat_minor": 2
}
