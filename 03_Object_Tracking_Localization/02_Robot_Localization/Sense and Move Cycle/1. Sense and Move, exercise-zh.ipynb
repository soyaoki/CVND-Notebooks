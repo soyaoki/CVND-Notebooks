{
 "cells": [
  {
   "cell_type": "markdown",
   "metadata": {},
   "source": [
    "# Sense 函数与 Move函数\n",
    "\n",
    "在这个notebook中，我们把所有之前所学的知识汇总在一起，看一看当机器人不断进行感应、运动、再感应的循环时，初始概率分布会发生什么样变化，以及其他数据会怎样变化！ 回想一下，当机器人感知到周围环境（即红色或绿色）时，它就会获得有关其环境的信息。但是，每次移动时，由于运动的不确定性，也会丢失一些信息。\n",
    "\n",
    "\n",
    "<img src='images/sense_move.png' width=50% height=50% />\n",
    "\n",
    "\n",
    "首先，需要用到常用的资源导入和显示函数。"
   ]
  },
  {
   "cell_type": "code",
   "execution_count": null,
   "metadata": {},
   "outputs": [],
   "source": [
    "# importing resources\n",
    "import matplotlib.pyplot as plt\n",
    "import numpy as np"
   ]
  },
  {
   "cell_type": "markdown",
   "metadata": {},
   "source": [
    "其次，还有一个用于可视化概率分布的辅助函数。"
   ]
  },
  {
   "cell_type": "code",
   "execution_count": null,
   "metadata": {},
   "outputs": [],
   "source": [
    "def display_map(grid, bar_width=1):\n",
    "    if(len(grid) > 0):\n",
    "        x_labels = range(len(grid))\n",
    "        plt.bar(x_labels, height=grid, width=bar_width, color='b')\n",
    "        plt.xlabel('Grid Cell')\n",
    "        plt.ylabel('Probability')\n",
    "        plt.ylim(0, 1) # range of 0-1 for probability values \n",
    "        plt.title('Probability of the robot being at each cell in the grid')\n",
    "        plt.xticks(np.arange(min(x_labels), max(x_labels)+1, 1))\n",
    "        plt.show()\n",
    "    else:\n",
    "        print('Grid is empty')\n"
   ]
  },
  {
   "cell_type": "markdown",
   "metadata": {},
   "source": [
    "### 练习：\n",
    "给定列表为motions=[1,1]，如果机器人首先感知到红色，则计算后验分布，然后向右移动一个单位，然后感知绿色，之后再次向右移动，从均匀的先验分布`p`开始。\n",
    "\n",
    "`motions=[1,1]`意味着机器人向右移动一个单元格，然后向右移动。你会获得一个初始变量以及完整的`sense` 与`move`函数，如下所示。"
   ]
  },
  {
   "cell_type": "code",
   "execution_count": null,
   "metadata": {},
   "outputs": [],
   "source": [
    "# given initial variables\n",
    "p=[0.2, 0.2, 0.2, 0.2, 0.2]\n",
    "# the color of each grid cell in the 1D world\n",
    "world=['green', 'red', 'red', 'green', 'green']\n",
    "# Z, the sensor reading ('red' or 'green')\n",
    "measurements = ['red', 'green']\n",
    "pHit = 0.6\n",
    "pMiss = 0.2\n",
    "\n",
    "motions = [1,1]\n",
    "pExact = 0.8\n",
    "pOvershoot = 0.1\n",
    "pUndershoot = 0.1\n",
    "\n",
    "# You are given the complete sense function\n",
    "def sense(p, Z):\n",
    "    ''' Takes in a current probability distribution, p, and a sensor reading, Z.\n",
    "        Returns a *normalized* distribution after the sensor measurement has been made, q.\n",
    "        This should be accurate whether Z is 'red' or 'green'. '''\n",
    "    q=[]\n",
    "    # loop through all grid cells\n",
    "    for i in range(len(p)):\n",
    "        # check if the sensor reading is equal to the color of the grid cell\n",
    "        # if so, hit = 1\n",
    "        # if not, hit = 0\n",
    "        hit = (Z == world[i])\n",
    "        q.append(p[i] * (hit * pHit + (1-hit) * pMiss))\n",
    "        \n",
    "    # sum up all the components\n",
    "    s = sum(q)\n",
    "    # divide all elements of q by the sum to normalize\n",
    "    for i in range(len(p)):\n",
    "        q[i] = q[i] / s\n",
    "    return q\n",
    "\n",
    "\n",
    "# The complete move function\n",
    "def move(p, U):\n",
    "    q=[]\n",
    "    # iterate through all values in p\n",
    "    for i in range(len(p)):\n",
    "        # use the modulo operator to find the new location for a p value\n",
    "        # this finds an index that is shifted by the correct amount\n",
    "        index = (i-U) % len(p)\n",
    "        nextIndex = (index+1) % len(p)\n",
    "        prevIndex = (index-1) % len(p)\n",
    "        s = pExact * p[index]\n",
    "        s = s + pOvershoot  * p[nextIndex]\n",
    "        s = s + pUndershoot * p[prevIndex]\n",
    "        # append the correct, modified value of p to q\n",
    "        q.append(s)\n",
    "    return q\n",
    "\n",
    "\n",
    "## TODO: Compute the posterior distribution if the robot first senses red, then moves \n",
    "## right one, then senses green, then moves right again, starting with a uniform prior distribution.\n",
    "\n",
    "## print/display that distribution"
   ]
  },
  {
   "cell_type": "markdown",
   "metadata": {},
   "source": [
    "### 关于熵值的说明\n",
    "\n",
    "该视频提到，在更新步骤之后熵值将下降，并且在测量步骤之后熵值将上升。\n",
    "\n",
    "通常情况下，**熵值可以用来测量不确定性的量**。由于更新步骤增加了不确定性，因此熵值应该增加。测量步骤降低了不确定性，因此熵值应该减少。\n",
    "\n",
    "让我们看一看当前的这个例子，其中机器人可以处于五个不同的位置。当所有位置具有相等的概率$[0.2, 0.2, 0.2, 0.2, 0.2]$时，会出现最大的不确定性。\n",
    "\n",
    "它遵循的公式如下： $$\\text{熵值} = \\Sigma  (-p \\times log(p))$$，所以， $$-5 \\times (.2)\\times log(0.2) = 0.699$$\n",
    "\n",
    "进行测量就会降低不确定性，从而降低熵值。假设在进行测量后，概率变为<span class =“mathquill”> [0.05,0.05,0.05,0.8,0.05]</span>。现在熵值减少到0.338。因此，一个测量步骤会使熵值降低，而一个更新步骤则会使熵值增加。"
   ]
  }
 ],
 "metadata": {
  "kernelspec": {
   "display_name": "Python 3",
   "language": "python",
   "name": "python3"
  },
  "language_info": {
   "codemirror_mode": {
    "name": "ipython",
    "version": 3
   },
   "file_extension": ".py",
   "mimetype": "text/x-python",
   "name": "python",
   "nbconvert_exporter": "python",
   "pygments_lexer": "ipython3",
   "version": "3.6.3"
  }
 },
 "nbformat": 4,
 "nbformat_minor": 2
}
