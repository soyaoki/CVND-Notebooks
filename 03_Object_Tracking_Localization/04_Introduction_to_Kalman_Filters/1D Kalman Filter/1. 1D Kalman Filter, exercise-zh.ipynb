{
 "cells": [
  {
   "cell_type": "markdown",
   "metadata": {},
   "source": [
    "# 一维卡尔曼滤波器\n",
    "\n",
    "现在，只要完成之前这些步骤，就可以为实现一维卡尔曼滤波器做好准备了。接下来，让我们来看一个在这个1D空间四处移动的机器人。机器人在这个空间中移动时，它会通过执行以下循环来定位自己：\n",
    "1. 感测并执行测量更新任务\n",
    "2. 移动并执行动作更新任务\n",
    "\n",
    "在前面，你已经单独编写了这些步骤的代码，现在，让我们将它们组合在一个循环中吧！\n",
    "\n",
    "实现此滤波器后，你应该看到，一个非常不确定的位置高斯会变为一个越来越确定的高斯，如下图所示。该notebook中的代码实际上只是卡尔曼滤波器的简化版本，Google自动驾驶汽车也会安装此滤波器，用于跟踪周围的车辆和其他物体。\n",
    "\n",
    "<img src='images/gaussian_updates.png' height=70% width=70% />\n",
    "\n",
    "---\n",
    "\n",
    "下面是我们常用的高斯方程和导入。"
   ]
  },
  {
   "cell_type": "code",
   "execution_count": null,
   "metadata": {},
   "outputs": [],
   "source": [
    "# import math functions\n",
    "from math import *\n",
    "import matplotlib.pyplot as plt\n",
    "import numpy as np\n",
    "\n",
    "# gaussian function\n",
    "def f(mu, sigma2, x):\n",
    "    ''' f takes in a mean and squared variance, and an input x\n",
    "       and returns the gaussian value.'''\n",
    "    coefficient = 1.0 / sqrt(2.0 * pi *sigma2)\n",
    "    exponential = exp(-0.5 * (x-mu) ** 2 / sigma2)\n",
    "    return coefficient * exponential\n",
    " "
   ]
  },
  {
   "cell_type": "markdown",
   "metadata": {},
   "source": [
    "另外，你还会获得一段完整的`update`代码，该代码在合并初始置信度和新测量信息时执行参数更新。此外，完整的`predict`代码在合并一个运动后会对高斯值进行更新。"
   ]
  },
  {
   "cell_type": "code",
   "execution_count": null,
   "metadata": {},
   "outputs": [],
   "source": [
    "# the update function\n",
    "def update(mean1, var1, mean2, var2):\n",
    "    ''' This function takes in two means and two squared variance terms,\n",
    "        and returns updated gaussian parameters.'''\n",
    "    # Calculate the new parameters\n",
    "    new_mean = (var2*mean1 + var1*mean2)/(var2+var1)\n",
    "    new_var = 1/(1/var2 + 1/var1)\n",
    "    \n",
    "    return [new_mean, new_var]\n",
    "\n",
    "\n",
    "# the motion update/predict function\n",
    "def predict(mean1, var1, mean2, var2):\n",
    "    ''' This function takes in two means and two squared variance terms,\n",
    "        and returns updated gaussian parameters, after motion.'''\n",
    "    # Calculate the new parameters\n",
    "    new_mean = mean1 + mean2\n",
    "    new_var = var1 + var2\n",
    "    \n",
    "    return [new_mean, new_var]"
   ]
  },
  {
   "cell_type": "markdown",
   "metadata": {},
   "source": [
    "### 练习：编写完整的一维卡尔曼滤波器代码，按顺序遍历所有给定的测量和运动。\n",
    "\n",
    "你的完整代码应用于查看传感器测量值，然后查看该顺序中的运动，直到完成所有更新！\n",
    "\n",
    "### 初始不确定性\n",
    "\n",
    "接下来，你将看到下面给出了初始参数，其中包括初始位置估计`mu` 和平方方差`sig`。注意，初始估计设置为位置0，方差非常大；这是一种高度混乱的状态，就像我们在直方图滤波器中使用的 *均匀* 分布一样。对于与传感器测量和运动相关的平方方差，也有给定的值，因为这些读数都会出现偏差。\n",
    "\n",
    "之后，你会发现，即使初始估计的位置（初始`mu`）与第一次测量相差甚远，它也应该在循环测量和运动时快速赶上。"
   ]
  },
  {
   "cell_type": "code",
   "execution_count": null,
   "metadata": {},
   "outputs": [],
   "source": [
    "# measurements for mu and motions, U\n",
    "measurements = [5., 6., 7., 9., 10.]\n",
    "motions = [1., 1., 2., 1., 1.]\n",
    "\n",
    "# initial parameters\n",
    "measurement_sig = 4.\n",
    "motion_sig = 2.\n",
    "mu = 0.\n",
    "sig = 10000.\n",
    "\n",
    "## TODO: Loop through all measurements/motions\n",
    "## Print out and display the resulting Gaussian \n",
    "\n",
    "# your code here\n"
   ]
  },
  {
   "cell_type": "markdown",
   "metadata": {},
   "source": [
    "### 绘制高斯分布图\n",
    "\n",
    "通过遍历一系列x值并创建高斯值`g`的结果列表来绘制高斯分布图，具体如下所示。我们建议你更改一下`mu` 和`sigma2`的值，看一看会发生什么。"
   ]
  },
  {
   "cell_type": "code",
   "execution_count": null,
   "metadata": {},
   "outputs": [],
   "source": [
    "# display the *initial* gaussian over a range of x values\n",
    "# define the parameters\n",
    "mu = 0\n",
    "sigma2 = 10000\n",
    "\n",
    "# define a range of x values\n",
    "x_axis = np.arange(-20, 20, 0.1)\n",
    "\n",
    "# create a corresponding list of gaussian values\n",
    "g = []\n",
    "for x in x_axis:\n",
    "    g.append(f(mu, sigma2, x))\n",
    "\n",
    "# plot the result \n",
    "plt.plot(x_axis, g)"
   ]
  }
 ],
 "metadata": {},
 "nbformat": 4,
 "nbformat_minor": 2
}
