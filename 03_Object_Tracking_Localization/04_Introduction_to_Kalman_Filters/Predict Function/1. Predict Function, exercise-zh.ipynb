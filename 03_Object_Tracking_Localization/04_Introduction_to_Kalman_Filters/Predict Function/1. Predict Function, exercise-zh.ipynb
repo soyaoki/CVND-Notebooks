{
 "cells": [
  {
   "cell_type": "markdown",
   "metadata": {},
   "source": [
    "# Predict函数\n",
    "\n",
    "收集一些新测量之后，执行参数更新，然后，下一步是将运动合并到我们的高斯计算中。回想一下，在我们判断机器人或自动驾驶汽车位置的时候：\n",
    "* 测量更新*增加了* 我们的判断确定性\n",
    "* 运动更新/预测*降低了*我们的判断确定性\n",
    "\n",
    "这是因为每次运动都有可能未达到或超越预期目的位置，并且由于运动的不准确性，我们最终会在每次运动后失去对确切位置的判断确定性。\n",
    "\n",
    "接下来，让我们从下面的例子中得到几个公式，并用它们来编写一个程序，该程序需要接收这两个量的均值、运动以及平方方差，并为新的高斯返回一个*新的*、更新的均值和方差。这一个步骤称为**运动更新**或预测步骤。\n",
    "\n",
    "<img src='images/motion_update.png' width=\"50%\" height=\"50%\">\n",
    "\n",
    "\n",
    "下面是我们常用的高斯方程和导入。"
   ]
  },
  {
   "cell_type": "code",
   "execution_count": null,
   "metadata": {},
   "outputs": [],
   "source": [
    "# import math functions\n",
    "from math import *\n",
    "import matplotlib.pyplot as plt\n",
    "import numpy as np\n",
    "\n",
    "# gaussian function\n",
    "def f(mu, sigma2, x):\n",
    "    ''' f takes in a mean and squared variance, and an input x\n",
    "       and returns the gaussian value.'''\n",
    "    coefficient = 1.0 / sqrt(2.0 * pi *sigma2)\n",
    "    exponential = exp(-0.5 * (x-mu) ** 2 / sigma2)\n",
    "    return coefficient * exponential\n",
    " "
   ]
  },
  {
   "cell_type": "markdown",
   "metadata": {},
   "source": [
    "为方便起见，你还会获得完整的`update` 代码，便于你在合并初始置信度和新测量信息时执行参数更新。"
   ]
  },
  {
   "cell_type": "code",
   "execution_count": null,
   "metadata": {},
   "outputs": [],
   "source": [
    "# the update function\n",
    "def update(mean1, var1, mean2, var2):\n",
    "    ''' This function takes in two means and two squared variance terms,\n",
    "        and returns updated gaussian parameters.'''\n",
    "    # Calculate the new parameters\n",
    "    new_mean = (var2*mean1 + var1*mean2)/(var2+var1)\n",
    "    new_var = 1/(1/var2 + 1/var1)\n",
    "    \n",
    "    return [new_mean, new_var]"
   ]
  },
  {
   "cell_type": "markdown",
   "metadata": {},
   "source": [
    "### 练习：编写一个`predict`函数，该函数要返回运动后高斯的均值与平方方差的新值。\n",
    "\n",
    "此函数应包含初始置信度与运动的参数，并执行测量更新，如该notebook顶部的图像所示。"
   ]
  },
  {
   "cell_type": "code",
   "execution_count": null,
   "metadata": {},
   "outputs": [],
   "source": [
    "# the motion update/predict function\n",
    "def predict(mean1, var1, mean2, var2):\n",
    "    ''' This function takes in two means and two squared variance terms,\n",
    "        and returns updated gaussian parameters, after motion.'''\n",
    "    ## TODO: Calculate the new parameters\n",
    "    new_mean = None\n",
    "    new_var = None\n",
    "    \n",
    "    return [new_mean, new_var]"
   ]
  },
  {
   "cell_type": "code",
   "execution_count": null,
   "metadata": {},
   "outputs": [],
   "source": [
    "# test your implementation\n",
    "new_params = predict(10, 4, 12, 4)\n",
    "print(new_params)"
   ]
  },
  {
   "cell_type": "markdown",
   "metadata": {},
   "source": [
    "### 绘制高斯分布图\n",
    "\n",
    "通过遍历一系列x值并创建高斯值 `g`的结果列表来绘制一个高斯图，如下所示。你可以尝试更改`mu`和`sigma2`的值，看一看会发生什么。"
   ]
  },
  {
   "cell_type": "code",
   "execution_count": null,
   "metadata": {},
   "outputs": [],
   "source": [
    "# display a gaussian over a range of x values\n",
    "# define the parameters\n",
    "mu = new_params[0]\n",
    "sigma2 = new_params[1]\n",
    "\n",
    "# define a range of x values\n",
    "x_axis = np.arange(0, 40, 0.1)\n",
    "\n",
    "# create a corresponding list of gaussian values\n",
    "g = []\n",
    "for x in x_axis:\n",
    "    g.append(f(mu, sigma2, x))\n",
    "\n",
    "# plot the result \n",
    "plt.plot(x_axis, g)"
   ]
  }
 ],
 "metadata": {},
 "nbformat": 4,
 "nbformat_minor": 2
}
