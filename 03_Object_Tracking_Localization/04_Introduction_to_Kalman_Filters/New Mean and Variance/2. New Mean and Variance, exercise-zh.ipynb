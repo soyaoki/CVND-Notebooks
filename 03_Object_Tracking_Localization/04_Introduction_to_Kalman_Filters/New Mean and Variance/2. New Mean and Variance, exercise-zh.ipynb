{
 "cells": [
  {
   "cell_type": "markdown",
   "metadata": {},
   "source": [
    "# 新的均值与方差\n",
    "\n",
    "现在让我们从下面的例子中获取公式并使用它们来编写一个程序，该程序要接收两个均值和方差，并为高斯方程返回一个*全新的*、已更新的均值和方差。此步骤称为参数或**测量更新**，因为它是当初始置信度（由下面的蓝色高斯表示）与新信息（具有一定不确定性的测量，即橙色高斯））合并时发生的更新。\n",
    "\n",
    "正如你在之前的测验中看到的那样，更新的高斯将是这两个高斯的组合，其中新的均值介于两者之间，并且方差小于两个给定方差中的最小值。这意味着在测量之后，我们的新均值比初始置信度更加确定！\n",
    "<img src='images/mean_var.png' width=\"50%\" height=\"50%\">\n",
    "\n",
    "\n",
    "下面是我们常用的高斯方程和导入。"
   ]
  },
  {
   "cell_type": "code",
   "execution_count": null,
   "metadata": {},
   "outputs": [],
   "source": [
    "# import math functions\n",
    "from math import *\n",
    "import matplotlib.pyplot as plt\n",
    "import numpy as np\n",
    "\n",
    "# gaussian function\n",
    "def f(mu, sigma2, x):\n",
    "    ''' f takes in a mean and squared variance, and an input x\n",
    "       and returns the gaussian value.'''\n",
    "    coefficient = 1.0 / sqrt(2.0 * pi *sigma2)\n",
    "    exponential = exp(-0.5 * (x-mu) ** 2 / sigma2)\n",
    "    return coefficient * exponential\n",
    " "
   ]
  },
  {
   "cell_type": "markdown",
   "metadata": {},
   "source": [
    "### 练习：编写一个用于执行测量更新的`update`函数。\n",
    "\n",
    "此函数应结合给定的高斯参数并返回均值和平方方差的新值。\n",
    "\n",
    "此函数不必执行任何指数数学运算，它只需遵循测量更新的公式即可，如本notebook顶部的图像所示。你可以假设给定的方差`var1`和`var2` 是两个平方项。"
   ]
  },
  {
   "cell_type": "code",
   "execution_count": null,
   "metadata": {},
   "outputs": [],
   "source": [
    "# the update function\n",
    "def update(mean1, var1, mean2, var2):\n",
    "    ''' This function takes in two means and two squared variance terms,\n",
    "        and returns updated gaussian parameters.'''\n",
    "    ## TODO: Calculate the new parameters\n",
    "    new_mean = None\n",
    "    new_var = None\n",
    "    \n",
    "    return [new_mean, new_var]"
   ]
  },
  {
   "cell_type": "code",
   "execution_count": null,
   "metadata": {},
   "outputs": [],
   "source": [
    "# test your implementation\n",
    "new_params = update(10, 4, 12, 4)\n",
    "print(new_params)"
   ]
  },
  {
   "cell_type": "markdown",
   "metadata": {},
   "source": [
    "### 绘制高斯图\n",
    "\n",
    "通过遍历一系列x值并创建高斯值`g`的结果列表来绘制高斯图，如下所示。我们建议你更改`mu`和`sigma2`的值，看一看会发生什么变化。"
   ]
  },
  {
   "cell_type": "code",
   "execution_count": null,
   "metadata": {},
   "outputs": [],
   "source": [
    "# display a gaussian over a range of x values\n",
    "# define the parameters\n",
    "mu = new_params[0]\n",
    "sigma2 = new_params[1]\n",
    "\n",
    "# define a range of x values\n",
    "x_axis = np.arange(0, 20, 0.1)\n",
    "\n",
    "# create a corresponding list of gaussian values\n",
    "g = []\n",
    "for x in x_axis:\n",
    "    g.append(f(mu, sigma2, x))\n",
    "\n",
    "# plot the result \n",
    "plt.plot(x_axis, g)"
   ]
  }
 ],
 "metadata": {},
 "nbformat": 4,
 "nbformat_minor": 2
}
