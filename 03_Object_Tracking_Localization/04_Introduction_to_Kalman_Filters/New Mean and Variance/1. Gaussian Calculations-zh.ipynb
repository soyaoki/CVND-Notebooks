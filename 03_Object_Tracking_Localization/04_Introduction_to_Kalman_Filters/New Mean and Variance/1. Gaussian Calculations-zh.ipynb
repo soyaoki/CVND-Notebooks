{
 "cells": [
  {
   "cell_type": "markdown",
   "metadata": {},
   "source": [
    "# 高斯\n",
    "\n",
    "我们知道高斯方程包含两个主要参数：\n",
    "*  一个是平均数$\\mu$\n",
    "*  一个是方差，通常写为平方值$\\sigma^2$。\n",
    "\n",
    " 一般来说，高斯方程是这样的：\n",
    "\n",
    "> $p(x) = \\frac{1}{{ \\sqrt {2\\pi \\sigma ^2 } }}e^{{ - ( {x - \\mu } )^2 }/{2\\sigma ^2 }}$\n",
    "\n",
    "\n",
    "我们将该方程的第一部分称为 *系数*，第二部分称为 *指数*。第二部分在定义高斯的形状时最为重要，而系数是一个归一化因子。\n",
    "\n",
    "对于不确定的连续数量，例如自动驾驶汽车的预估位置，**我们使用高斯方程来表示该数量的不确定性**。方差越小，我们对数量越有把握。"
   ]
  },
  {
   "cell_type": "code",
   "execution_count": null,
   "metadata": {},
   "outputs": [],
   "source": [
    "# import math functions\n",
    "from math import *\n",
    "import matplotlib.pyplot as plt\n",
    "import numpy as np\n",
    "\n",
    "# gaussian function\n",
    "def f(mu, sigma2, x):\n",
    "    ''' f takes in a mean and squared variance, and an input x\n",
    "       and returns the gaussian value.'''\n",
    "    coefficient = 1.0 / sqrt(2.0 * pi *sigma2)\n",
    "    exponential = exp(-0.5 * (x-mu) ** 2 / sigma2)\n",
    "    return coefficient * exponential\n",
    " "
   ]
  },
  {
   "cell_type": "code",
   "execution_count": null,
   "metadata": {},
   "outputs": [],
   "source": [
    "# an example Gaussian\n",
    "gauss_1 = f(10, 4, 8)\n",
    "print(gauss_1)"
   ]
  },
  {
   "cell_type": "code",
   "execution_count": null,
   "metadata": {},
   "outputs": [],
   "source": [
    "0.12098536225957168\n"
   ]
  },
  {
   "cell_type": "markdown",
   "metadata": {},
   "source": [
    "### 绘制高斯分布图\n",
    "\n",
    "由于我们的函数仅返回x的特定值的值，因此我们可以通过遍历x值范围并创建高斯分布值`g`的结果列表来绘制高斯分布图，如下所示。我们建议你更改`mu`和`sigma2`的值，看一看会发生什么。"
   ]
  },
  {
   "cell_type": "code",
   "execution_count": null,
   "metadata": {},
   "outputs": [],
   "source": [
    "# display a gaussian over a range of x values\n",
    "# define the parameters\n",
    "mu = 10\n",
    "sigma2 = 4\n",
    "\n",
    "# define a range of x values\n",
    "x_axis = np.arange(0, 20, 0.1)\n",
    "\n",
    "# create a corresponding list of gaussian values\n",
    "g = []\n",
    "for x in x_axis:\n",
    "    g.append(f(mu, sigma2, x))\n",
    "\n",
    "# plot the result \n",
    "plt.plot(x_axis, g)"
   ]
  },
  {
   "cell_type": "code",
   "execution_count": null,
   "metadata": {},
   "outputs": [],
   "source": [
    "[<matplotlib.lines.Line2D at 0x1179f0c18>]\n",
    "\n",
    "\n"
   ]
  },
  {
   "cell_type": "markdown",
   "metadata": {},
   "source": [
    "![png](output_4_1.png)\n",
    "\n",
    "\n",
    "查看上图，并记下峰值。这是高斯分布的**最大值**，我们可以通过设置`x = mu`来精确计算它。"
   ]
  },
  {
   "cell_type": "code",
   "execution_count": null,
   "metadata": {},
   "outputs": [],
   "source": [
    "# maximize a Gaussian by setting mu and x equal\n",
    "gauss_2 = f(10, 4, 10)\n",
    "print(gauss_2)"
   ]
  },
  {
   "cell_type": "code",
   "execution_count": null,
   "metadata": {},
   "outputs": [],
   "source": [
    "0.19947114020071635"
   ]
  }
 ],
 "metadata": {},
 "nbformat": 4,
 "nbformat_minor": 2
}
